{
 "cells": [
  {
   "cell_type": "markdown",
   "id": "f5993ee5",
   "metadata": {},
   "source": [
    "### First, install these libraries\n",
    "\n",
    "!pip install gensim torch transformers tqdm pickle"
   ]
  },
  {
   "cell_type": "code",
   "execution_count": 1,
   "id": "35dbfc53",
   "metadata": {},
   "outputs": [],
   "source": [
    "import numpy as np\n",
    "import pandas as pd\n",
    "import time\n"
   ]
  },
  {
   "cell_type": "markdown",
   "id": "1341931c",
   "metadata": {},
   "source": [
    "### Download one of the GloVe word embeddings from here:\n",
    "\n",
    "https://nlp.stanford.edu/projects/glove/"
   ]
  },
  {
   "cell_type": "markdown",
   "id": "c905b2bf",
   "metadata": {},
   "source": [
    "**Right now, We will use the glove.840B.300d**\n",
    "\n",
    "In the embeddings.py, change the \"glove_file_path\" to reflect the file path"
   ]
  },
  {
   "cell_type": "code",
   "execution_count": 2,
   "id": "3cde38e5",
   "metadata": {},
   "outputs": [],
   "source": [
    "from model_of_embeddings import get_word_embedding, get_bert_word_embedding, get_bert_text_embedding"
   ]
  },
  {
   "cell_type": "code",
   "execution_count": 3,
   "id": "2460dc54",
   "metadata": {},
   "outputs": [],
   "source": [
    "word = \"humanity\""
   ]
  },
  {
   "cell_type": "markdown",
   "id": "9471eec1",
   "metadata": {},
   "source": [
    "### Glove word embeddings"
   ]
  },
  {
   "cell_type": "code",
   "execution_count": 4,
   "id": "8ce72193",
   "metadata": {
    "scrolled": true
   },
   "outputs": [
    {
     "name": "stdout",
     "output_type": "stream",
     "text": [
      "CPU times: total: 10.2 s\n",
      "Wall time: 12.5 s\n"
     ]
    }
   ],
   "source": [
    "%%time\n",
    "model_glv = get_word_embedding(method=\"glove\")"
   ]
  },
  {
   "cell_type": "code",
   "execution_count": 6,
   "id": "e14757e3",
   "metadata": {},
   "outputs": [
    {
     "name": "stdout",
     "output_type": "stream",
     "text": [
      "CPU times: total: 0 ns\n",
      "Wall time: 0 ns\n"
     ]
    }
   ],
   "source": [
    "%%time\n",
    "WE_glv = model_glv[word]"
   ]
  },
  {
   "cell_type": "code",
   "execution_count": 7,
   "id": "66024162",
   "metadata": {},
   "outputs": [
    {
     "data": {
      "text/plain": [
       "(300,)"
      ]
     },
     "execution_count": 7,
     "metadata": {},
     "output_type": "execute_result"
    }
   ],
   "source": [
    "WE_glv.shape"
   ]
  },
  {
   "cell_type": "markdown",
   "id": "5c57be09",
   "metadata": {},
   "source": [
    "### word2vec word embeddings"
   ]
  },
  {
   "cell_type": "code",
   "execution_count": 8,
   "id": "d54367ab",
   "metadata": {},
   "outputs": [
    {
     "name": "stdout",
     "output_type": "stream",
     "text": [
      "CPU times: total: 1min 12s\n",
      "Wall time: 1min 19s\n"
     ]
    }
   ],
   "source": [
    "%%time\n",
    "model_w2v = get_word_embedding( method=\"word2vec\")"
   ]
  },
  {
   "cell_type": "code",
   "execution_count": 9,
   "id": "c31f3803",
   "metadata": {},
   "outputs": [
    {
     "name": "stdout",
     "output_type": "stream",
     "text": [
      "CPU times: total: 0 ns\n",
      "Wall time: 0 ns\n"
     ]
    }
   ],
   "source": [
    "%%time\n",
    "WE_w2v = model_w2v[word]"
   ]
  },
  {
   "cell_type": "code",
   "execution_count": 10,
   "id": "f8e289d4",
   "metadata": {},
   "outputs": [
    {
     "data": {
      "text/plain": [
       "(300,)"
      ]
     },
     "execution_count": 10,
     "metadata": {},
     "output_type": "execute_result"
    }
   ],
   "source": [
    "WE_w2v.shape"
   ]
  },
  {
   "cell_type": "markdown",
   "id": "86fc0e01",
   "metadata": {},
   "source": [
    "### fasttext word embeddings"
   ]
  },
  {
   "cell_type": "code",
   "execution_count": 12,
   "id": "277986e5",
   "metadata": {},
   "outputs": [
    {
     "name": "stdout",
     "output_type": "stream",
     "text": [
      "CPU times: total: 4min 54s\n",
      "Wall time: 5min 33s\n"
     ]
    }
   ],
   "source": [
    "%%time\n",
    "model_fast = get_word_embedding(method=\"fasttext\")"
   ]
  },
  {
   "cell_type": "code",
   "execution_count": 14,
   "id": "dfd3cc8b",
   "metadata": {},
   "outputs": [
    {
     "name": "stdout",
     "output_type": "stream",
     "text": [
      "CPU times: total: 0 ns\n",
      "Wall time: 0 ns\n"
     ]
    }
   ],
   "source": [
    "%%time\n",
    "WE_fast = model_fast[word]"
   ]
  },
  {
   "cell_type": "code",
   "execution_count": 15,
   "id": "2624c5cb",
   "metadata": {},
   "outputs": [
    {
     "data": {
      "text/plain": [
       "(300,)"
      ]
     },
     "execution_count": 15,
     "metadata": {},
     "output_type": "execute_result"
    }
   ],
   "source": [
    "WE_fast.shape"
   ]
  },
  {
   "cell_type": "markdown",
   "id": "cb47af32",
   "metadata": {},
   "source": [
    "### bert word embeddings"
   ]
  },
  {
   "cell_type": "code",
   "execution_count": 4,
   "id": "7bc41131",
   "metadata": {},
   "outputs": [
    {
     "name": "stderr",
     "output_type": "stream",
     "text": [
      "Some weights of the model checkpoint at bert-base-uncased were not used when initializing BertModel: ['cls.seq_relationship.weight', 'cls.predictions.transform.dense.weight', 'cls.predictions.transform.LayerNorm.weight', 'cls.predictions.bias', 'cls.predictions.transform.dense.bias', 'cls.seq_relationship.bias', 'cls.predictions.transform.LayerNorm.bias', 'cls.predictions.decoder.weight']\n",
      "- This IS expected if you are initializing BertModel from the checkpoint of a model trained on another task or with another architecture (e.g. initializing a BertForSequenceClassification model from a BertForPreTraining model).\n",
      "- This IS NOT expected if you are initializing BertModel from the checkpoint of a model that you expect to be exactly identical (initializing a BertForSequenceClassification model from a BertForSequenceClassification model).\n"
     ]
    },
    {
     "name": "stdout",
     "output_type": "stream",
     "text": [
      "CPU times: total: 3.25 s\n",
      "Wall time: 2.71 s\n"
     ]
    }
   ],
   "source": [
    "%%time\n",
    "WE_bert = get_bert_word_embedding(word=word, sentence=\"humanity is still alive\")"
   ]
  },
  {
   "cell_type": "code",
   "execution_count": 5,
   "id": "5d8fd2ae",
   "metadata": {},
   "outputs": [
    {
     "data": {
      "text/plain": [
       "(768,)"
      ]
     },
     "execution_count": 5,
     "metadata": {},
     "output_type": "execute_result"
    }
   ],
   "source": [
    "WE_bert.shape"
   ]
  },
  {
   "cell_type": "markdown",
   "id": "9f70435a",
   "metadata": {},
   "source": [
    "# What if we want the embeddings for an entire sentence"
   ]
  },
  {
   "cell_type": "code",
   "execution_count": 6,
   "id": "5dc4c6bd",
   "metadata": {},
   "outputs": [
    {
     "name": "stderr",
     "output_type": "stream",
     "text": [
      "Some weights of the model checkpoint at bert-base-uncased were not used when initializing BertModel: ['cls.seq_relationship.weight', 'cls.predictions.transform.dense.weight', 'cls.predictions.transform.LayerNorm.weight', 'cls.predictions.bias', 'cls.predictions.transform.dense.bias', 'cls.seq_relationship.bias', 'cls.predictions.transform.LayerNorm.bias', 'cls.predictions.decoder.weight']\n",
      "- This IS expected if you are initializing BertModel from the checkpoint of a model trained on another task or with another architecture (e.g. initializing a BertForSequenceClassification model from a BertForPreTraining model).\n",
      "- This IS NOT expected if you are initializing BertModel from the checkpoint of a model that you expect to be exactly identical (initializing a BertForSequenceClassification model from a BertForSequenceClassification model).\n"
     ]
    }
   ],
   "source": [
    "WE_sent = get_bert_text_embedding(sentence=\"humanity is still alive\")"
   ]
  },
  {
   "cell_type": "code",
   "execution_count": 7,
   "id": "5b829448",
   "metadata": {},
   "outputs": [
    {
     "data": {
      "text/plain": [
       "torch.Size([1, 768])"
      ]
     },
     "execution_count": 7,
     "metadata": {},
     "output_type": "execute_result"
    }
   ],
   "source": [
    "WE_sent.shape"
   ]
  },
  {
   "cell_type": "code",
   "execution_count": null,
   "id": "bdff3403",
   "metadata": {},
   "outputs": [],
   "source": []
  },
  {
   "cell_type": "code",
   "execution_count": null,
   "id": "167b9e16",
   "metadata": {},
   "outputs": [],
   "source": []
  },
  {
   "cell_type": "code",
   "execution_count": null,
   "id": "f56324d8",
   "metadata": {},
   "outputs": [],
   "source": []
  }
 ],
 "metadata": {
  "kernelspec": {
   "display_name": "Python 3 (ipykernel)",
   "language": "python",
   "name": "python3"
  },
  "language_info": {
   "codemirror_mode": {
    "name": "ipython",
    "version": 3
   },
   "file_extension": ".py",
   "mimetype": "text/x-python",
   "name": "python",
   "nbconvert_exporter": "python",
   "pygments_lexer": "ipython3",
   "version": "3.9.12"
  }
 },
 "nbformat": 4,
 "nbformat_minor": 5
}
